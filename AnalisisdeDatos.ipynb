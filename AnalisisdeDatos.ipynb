{
  "nbformat": 4,
  "nbformat_minor": 0,
  "metadata": {
    "colab": {
      "provenance": [],
      "authorship_tag": "ABX9TyPvYBYbyoY/zZzqZAsDpRrp",
      "include_colab_link": true
    },
    "kernelspec": {
      "name": "python3",
      "display_name": "Python 3"
    },
    "language_info": {
      "name": "python"
    }
  },
  "cells": [
    {
      "cell_type": "markdown",
      "metadata": {
        "id": "view-in-github",
        "colab_type": "text"
      },
      "source": [
        "<a href=\"https://colab.research.google.com/github/Furtivo4/AnalisisdeDatos/blob/main/AnalisisdeDatos.ipynb\" target=\"_parent\"><img src=\"https://colab.research.google.com/assets/colab-badge.svg\" alt=\"Open In Colab\"/></a>"
      ]
    },
    {
      "cell_type": "code",
      "execution_count": 1,
      "metadata": {
        "id": "-WmzZFAaqj0b"
      },
      "outputs": [],
      "source": [
        "import numpy as np"
      ]
    },
    {
      "cell_type": "code",
      "source": [
        "#Crear arreglo de 1 dimension con varios elementos\n",
        "arr1 = np.array([1,2,3,4,5,6])\n",
        "print(arr1)\n",
        "print(arr1.shape)\n",
        "print(arr1.dtype)"
      ],
      "metadata": {
        "colab": {
          "base_uri": "https://localhost:8080/"
        },
        "id": "8qkc8bmZruUx",
        "outputId": "2868fbbb-38d5-4f41-bd02-beb071b2844f"
      },
      "execution_count": 6,
      "outputs": [
        {
          "output_type": "stream",
          "name": "stdout",
          "text": [
            "[1 2 3 4 5 6]\n",
            "(6,)\n",
            "int64\n"
          ]
        }
      ]
    },
    {
      "cell_type": "code",
      "source": [
        "#Cambiar la forma del arreglo de una matriz\n",
        "arr2 = arr1.reshape(2,3)\n",
        "print(arr2)\n",
        "print(arr2.shape)\n",
        "print(arr2.dtype)"
      ],
      "metadata": {
        "colab": {
          "base_uri": "https://localhost:8080/"
        },
        "id": "A8qmphKvsFqU",
        "outputId": "76351014-f962-41a6-e732-1fec463583e7"
      },
      "execution_count": 7,
      "outputs": [
        {
          "output_type": "stream",
          "name": "stdout",
          "text": [
            "[[1 2 3]\n",
            " [4 5 6]]\n",
            "(2, 3)\n",
            "int64\n"
          ]
        }
      ]
    },
    {
      "cell_type": "code",
      "source": [
        "#Crear una matriz 4x4 con numeros aleatorios\n",
        "matrix = np.random.rand(4,4)\n",
        "print(matrix)\n",
        "print(matrix.shape)\n",
        "print(matrix.dtype)"
      ],
      "metadata": {
        "colab": {
          "base_uri": "https://localhost:8080/"
        },
        "id": "lPUbI6nmsnwD",
        "outputId": "3dfbdc83-0627-4242-fed0-72c5425ecd01"
      },
      "execution_count": 11,
      "outputs": [
        {
          "output_type": "stream",
          "name": "stdout",
          "text": [
            "[[0.65879913 0.35502734 0.60192828 0.9626631 ]\n",
            " [0.98313746 0.30778709 0.37970534 0.85325434]\n",
            " [0.77181306 0.89507942 0.17176003 0.14256384]\n",
            " [0.56578955 0.43854763 0.69097493 0.50113132]]\n",
            "(4, 4)\n",
            "float64\n"
          ]
        }
      ]
    }
  ]
}